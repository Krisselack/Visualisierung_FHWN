{
 "cells": [
  {
   "cell_type": "code",
   "execution_count": 2,
   "id": "70017287",
   "metadata": {},
   "outputs": [],
   "source": [
    "# Visualisierung Karte'"
   ]
  },
  {
   "cell_type": "code",
   "execution_count": 3,
   "id": "a0725d99",
   "metadata": {},
   "outputs": [],
   "source": [
    "# Dataset (Verwaltungsgrenzen Wien): \n",
    "# https://www.data.gv.at/katalog/dataset/verwaltungsgrenzen-vgd-stichtagsdaten-wien/resource/437a7064-2c90-4734-a387-651cb921b63f"
   ]
  },
  {
   "cell_type": "code",
   "execution_count": 4,
   "id": "704b5251",
   "metadata": {},
   "outputs": [
    {
     "name": "stderr",
     "output_type": "stream",
     "text": [
      "Linking to GEOS 3.7.1, GDAL 2.2.3, PROJ 5.2.0\n",
      "\n",
      "\n",
      "Attaching package: ‘dplyr’\n",
      "\n",
      "\n",
      "The following objects are masked from ‘package:stats’:\n",
      "\n",
      "    filter, lag\n",
      "\n",
      "\n",
      "The following objects are masked from ‘package:base’:\n",
      "\n",
      "    intersect, setdiff, setequal, union\n",
      "\n",
      "\n"
     ]
    }
   ],
   "source": [
    "library(sf)\n",
    "library(ggplot2)\n",
    "library(dplyr)\n",
    "library(writexl)"
   ]
  },
  {
   "cell_type": "code",
   "execution_count": 5,
   "id": "82b4ef42",
   "metadata": {},
   "outputs": [
    {
     "name": "stdout",
     "output_type": "stream",
     "text": [
      "Reading layer `Bezirke_KG_Wien_31256' from data source `/home/christian/wd/Visualisierung/Geodata_Output/Bezirke_KG_Wien_31256.shp' using driver `ESRI Shapefile'\n",
      "Simple feature collection with 89 features and 33 fields\n",
      "Geometry type: POLYGON\n",
      "Dimension:     XY\n",
      "Bounding box:  xmin: -11179.6 ymin: 331050.8 xmax: 18253.26 ymax: 353819\n",
      "proj4string:   +proj=tmerc +lat_0=0 +lon_0=16.33333333333333 +k=1 +x_0=0 +y_0=-5000000 +ellps=bessel +units=m +no_defs \n"
     ]
    }
   ],
   "source": [
    "# Daten einlesen \n",
    "# Daten von opendata für LV Visualisierung \n",
    "preise <- read.csv2(\"./data/Preise.csv\", fileEncoding = \"windows-1252\")\n",
    "\n",
    "# Daten für Kartendarstellung - KGS mit Bezirken \n",
    "\n",
    "# Aufbereitung Geodaten: \n",
    "# QGIS Join KG Wien mit Bezirksdaten Wien \n",
    "# Anpassen Koordinatensysteme - Join Attribute by location - export\n",
    "kgs_wien <- st_read(\"Geodata_Output/Bezirke_KG_Wien_31256.shp\")\n"
   ]
  },
  {
   "cell_type": "code",
   "execution_count": 6,
   "id": "2a97a7e2",
   "metadata": {},
   "outputs": [
    {
     "data": {
      "text/html": [
       "<style>\n",
       ".list-inline {list-style: none; margin:0; padding: 0}\n",
       ".list-inline>li {display: inline-block}\n",
       ".list-inline>li:not(:last-child)::after {content: \"\\00b7\"; padding: 0 .5ex}\n",
       "</style>\n",
       "<ol class=list-inline><li>1107</li><li>1103</li><li>1101</li><li>1009</li><li>1806</li><li>1801</li><li>1803</li><li>1658</li><li>1002</li><li>1109</li><li>1513</li><li>1654</li><li>1512</li><li>1508</li><li>1305</li><li>1511</li><li>1502</li><li>1301</li><li>1651</li><li>1302</li><li>1652</li><li>1307</li><li>1405</li><li>1402</li><li>1005</li><li>1008</li><li>1514</li><li>1306</li><li>1104</li><li>1102</li><li>1616</li><li>1804</li><li>1105</li><li>1106</li><li>1665</li><li>1515</li><li>1304</li><li>1303</li><li>1004</li><li>1808</li><li>1805</li><li>1006</li><li>1614</li><li>1603</li><li>1609</li><li>1613</li><li>1620</li><li>1807</li><li>1802</li><li>1668</li><li>1605</li><li>1606</li><li>1201</li><li>1660</li><li>1669</li><li>1617</li><li>1509</li><li>1607</li><li>1108</li><li>1503</li><li>1505</li><li>1507</li><li>1010</li><li>1510</li><li>1657</li><li>1403</li><li>1501</li><li>1205</li><li>1209</li><li>1011</li><li>1401</li><li>1404</li><li>1204</li><li>1216</li><li>1206</li><li>1210</li><li>1208</li><li>1214</li><li>1202</li><li>1207</li><li>1213</li><li>1203</li><li>1215</li><li>1506</li><li>1504</li><li>1661</li><li>1212</li><li>1211</li><li>2001</li></ol>\n"
      ],
      "text/latex": [
       "\\begin{enumerate*}\n",
       "\\item 1107\n",
       "\\item 1103\n",
       "\\item 1101\n",
       "\\item 1009\n",
       "\\item 1806\n",
       "\\item 1801\n",
       "\\item 1803\n",
       "\\item 1658\n",
       "\\item 1002\n",
       "\\item 1109\n",
       "\\item 1513\n",
       "\\item 1654\n",
       "\\item 1512\n",
       "\\item 1508\n",
       "\\item 1305\n",
       "\\item 1511\n",
       "\\item 1502\n",
       "\\item 1301\n",
       "\\item 1651\n",
       "\\item 1302\n",
       "\\item 1652\n",
       "\\item 1307\n",
       "\\item 1405\n",
       "\\item 1402\n",
       "\\item 1005\n",
       "\\item 1008\n",
       "\\item 1514\n",
       "\\item 1306\n",
       "\\item 1104\n",
       "\\item 1102\n",
       "\\item 1616\n",
       "\\item 1804\n",
       "\\item 1105\n",
       "\\item 1106\n",
       "\\item 1665\n",
       "\\item 1515\n",
       "\\item 1304\n",
       "\\item 1303\n",
       "\\item 1004\n",
       "\\item 1808\n",
       "\\item 1805\n",
       "\\item 1006\n",
       "\\item 1614\n",
       "\\item 1603\n",
       "\\item 1609\n",
       "\\item 1613\n",
       "\\item 1620\n",
       "\\item 1807\n",
       "\\item 1802\n",
       "\\item 1668\n",
       "\\item 1605\n",
       "\\item 1606\n",
       "\\item 1201\n",
       "\\item 1660\n",
       "\\item 1669\n",
       "\\item 1617\n",
       "\\item 1509\n",
       "\\item 1607\n",
       "\\item 1108\n",
       "\\item 1503\n",
       "\\item 1505\n",
       "\\item 1507\n",
       "\\item 1010\n",
       "\\item 1510\n",
       "\\item 1657\n",
       "\\item 1403\n",
       "\\item 1501\n",
       "\\item 1205\n",
       "\\item 1209\n",
       "\\item 1011\n",
       "\\item 1401\n",
       "\\item 1404\n",
       "\\item 1204\n",
       "\\item 1216\n",
       "\\item 1206\n",
       "\\item 1210\n",
       "\\item 1208\n",
       "\\item 1214\n",
       "\\item 1202\n",
       "\\item 1207\n",
       "\\item 1213\n",
       "\\item 1203\n",
       "\\item 1215\n",
       "\\item 1506\n",
       "\\item 1504\n",
       "\\item 1661\n",
       "\\item 1212\n",
       "\\item 1211\n",
       "\\item 2001\n",
       "\\end{enumerate*}\n"
      ],
      "text/markdown": [
       "1. 1107\n",
       "2. 1103\n",
       "3. 1101\n",
       "4. 1009\n",
       "5. 1806\n",
       "6. 1801\n",
       "7. 1803\n",
       "8. 1658\n",
       "9. 1002\n",
       "10. 1109\n",
       "11. 1513\n",
       "12. 1654\n",
       "13. 1512\n",
       "14. 1508\n",
       "15. 1305\n",
       "16. 1511\n",
       "17. 1502\n",
       "18. 1301\n",
       "19. 1651\n",
       "20. 1302\n",
       "21. 1652\n",
       "22. 1307\n",
       "23. 1405\n",
       "24. 1402\n",
       "25. 1005\n",
       "26. 1008\n",
       "27. 1514\n",
       "28. 1306\n",
       "29. 1104\n",
       "30. 1102\n",
       "31. 1616\n",
       "32. 1804\n",
       "33. 1105\n",
       "34. 1106\n",
       "35. 1665\n",
       "36. 1515\n",
       "37. 1304\n",
       "38. 1303\n",
       "39. 1004\n",
       "40. 1808\n",
       "41. 1805\n",
       "42. 1006\n",
       "43. 1614\n",
       "44. 1603\n",
       "45. 1609\n",
       "46. 1613\n",
       "47. 1620\n",
       "48. 1807\n",
       "49. 1802\n",
       "50. 1668\n",
       "51. 1605\n",
       "52. 1606\n",
       "53. 1201\n",
       "54. 1660\n",
       "55. 1669\n",
       "56. 1617\n",
       "57. 1509\n",
       "58. 1607\n",
       "59. 1108\n",
       "60. 1503\n",
       "61. 1505\n",
       "62. 1507\n",
       "63. 1010\n",
       "64. 1510\n",
       "65. 1657\n",
       "66. 1403\n",
       "67. 1501\n",
       "68. 1205\n",
       "69. 1209\n",
       "70. 1011\n",
       "71. 1401\n",
       "72. 1404\n",
       "73. 1204\n",
       "74. 1216\n",
       "75. 1206\n",
       "76. 1210\n",
       "77. 1208\n",
       "78. 1214\n",
       "79. 1202\n",
       "80. 1207\n",
       "81. 1213\n",
       "82. 1203\n",
       "83. 1215\n",
       "84. 1506\n",
       "85. 1504\n",
       "86. 1661\n",
       "87. 1212\n",
       "88. 1211\n",
       "89. 2001\n",
       "\n",
       "\n"
      ],
      "text/plain": [
       " [1] 1107 1103 1101 1009 1806 1801 1803 1658 1002 1109 1513 1654 1512 1508 1305\n",
       "[16] 1511 1502 1301 1651 1302 1652 1307 1405 1402 1005 1008 1514 1306 1104 1102\n",
       "[31] 1616 1804 1105 1106 1665 1515 1304 1303 1004 1808 1805 1006 1614 1603 1609\n",
       "[46] 1613 1620 1807 1802 1668 1605 1606 1201 1660 1669 1617 1509 1607 1108 1503\n",
       "[61] 1505 1507 1010 1510 1657 1403 1501 1205 1209 1011 1401 1404 1204 1216 1206\n",
       "[76] 1210 1208 1214 1202 1207 1213 1203 1215 1506 1504 1661 1212 1211 2001"
      ]
     },
     "metadata": {},
     "output_type": "display_data"
    }
   ],
   "source": [
    "unique(preise$KG.Code)"
   ]
  },
  {
   "cell_type": "code",
   "execution_count": 7,
   "id": "b3690208",
   "metadata": {},
   "outputs": [],
   "source": [
    "# Aufbereiten der KG-Codes für Merging\n",
    "kgs_wien$KG.Code <- substring(as.character(kgs_wien$KG_NR), first=2)"
   ]
  },
  {
   "cell_type": "code",
   "execution_count": 8,
   "id": "523058c7",
   "metadata": {},
   "outputs": [],
   "source": [
    "preise_mit_Bezirk <- merge(preise, kgs_wien[, c(\"KG.Code\", \"BEZ\")], by = \"KG.Code\", how=\"left\") "
   ]
  },
  {
   "cell_type": "code",
   "execution_count": 9,
   "id": "93156c9b",
   "metadata": {},
   "outputs": [
    {
     "data": {
      "text/html": [
       "<table class=\"dataframe\">\n",
       "<caption>A data.frame: 6 × 49</caption>\n",
       "<thead>\n",
       "\t<tr><th></th><th scope=col>KG.Code</th><th scope=col>Katastralgemeinde</th><th scope=col>EZ</th><th scope=col>PLZ</th><th scope=col>Straße</th><th scope=col>ON</th><th scope=col>Gst.</th><th scope=col>Gst.Fl.</th><th scope=col>ErwArt</th><th scope=col>Erwerbsdatum</th><th scope=col>⋯</th><th scope=col>Baurecht</th><th scope=col>Bis</th><th scope=col>auf.EZ</th><th scope=col>Stammeinlage</th><th scope=col>sonst_wid</th><th scope=col>sonst_wid_prz</th><th scope=col>ber..Kaufpreis</th><th scope=col>Bauzins</th><th scope=col>BEZ</th><th scope=col>geometry</th></tr>\n",
       "\t<tr><th></th><th scope=col>&lt;int&gt;</th><th scope=col>&lt;fct&gt;</th><th scope=col>&lt;int&gt;</th><th scope=col>&lt;int&gt;</th><th scope=col>&lt;fct&gt;</th><th scope=col>&lt;fct&gt;</th><th scope=col>&lt;fct&gt;</th><th scope=col>&lt;int&gt;</th><th scope=col>&lt;fct&gt;</th><th scope=col>&lt;fct&gt;</th><th scope=col>⋯</th><th scope=col>&lt;fct&gt;</th><th scope=col>&lt;fct&gt;</th><th scope=col>&lt;fct&gt;</th><th scope=col>&lt;fct&gt;</th><th scope=col>&lt;fct&gt;</th><th scope=col>&lt;fct&gt;</th><th scope=col>&lt;int&gt;</th><th scope=col>&lt;fct&gt;</th><th scope=col>&lt;fct&gt;</th><th scope=col>&lt;POLYGON [m]&gt;</th></tr>\n",
       "</thead>\n",
       "<tbody>\n",
       "\t<tr><th scope=row>1</th><td>1002</td><td>Alsergrund</td><td>  11</td><td>1090</td><td>Spitalgasse        </td><td>27   </td><td>430   </td><td> 427</td><td>Kaufvertrag</td><td>09.06.1997</td><td>⋯</td><td>FALSCH</td><td></td><td></td><td>FALSCH</td><td>           </td><td>  </td><td> 1108988</td><td></td><td>02</td><td>POLYGON ((2152.74 343936.9,...</td></tr>\n",
       "\t<tr><th scope=row>2</th><td>1002</td><td>Alsergrund</td><td> 400</td><td>1090</td><td>Liechtensteinstraße</td><td>77   </td><td>675   </td><td> 213</td><td>Kaufvertrag</td><td>06.04.2018</td><td>⋯</td><td>FALSCH</td><td></td><td></td><td>FALSCH</td><td>WGVI 4,5m g</td><td>10</td><td>      NA</td><td></td><td>02</td><td>POLYGON ((2152.74 343936.9,...</td></tr>\n",
       "\t<tr><th scope=row>3</th><td>1002</td><td>Alsergrund</td><td>1495</td><td>1090</td><td>PORZELLANGASSE     </td><td>64   </td><td>1300/2</td><td> 419</td><td>Kaufvertrag</td><td>05.12.1988</td><td>⋯</td><td>FALSCH</td><td></td><td></td><td>FALSCH</td><td>           </td><td>  </td><td> 1017420</td><td></td><td>02</td><td>POLYGON ((2152.74 343936.9,...</td></tr>\n",
       "\t<tr><th scope=row>4</th><td>1002</td><td>Alsergrund</td><td>2142</td><td>1090</td><td>Pelikangasse       </td><td>16-18</td><td>304   </td><td>1638</td><td>Kaufvertrag</td><td>18.04.2018</td><td>⋯</td><td>FALSCH</td><td></td><td></td><td>FALSCH</td><td>W III      </td><td>70</td><td>18984009</td><td></td><td>02</td><td>POLYGON ((2152.74 343936.9,...</td></tr>\n",
       "\t<tr><th scope=row>5</th><td>1002</td><td>Alsergrund</td><td>1453</td><td>1090</td><td>Seegasse           </td><td>29   </td><td>1335  </td><td> 977</td><td>Kaufvertrag</td><td>03.08.2000</td><td>⋯</td><td>FALSCH</td><td></td><td></td><td>FALSCH</td><td>           </td><td>  </td><td> 1869872</td><td></td><td>02</td><td>POLYGON ((2152.74 343936.9,...</td></tr>\n",
       "\t<tr><th scope=row>6</th><td>1002</td><td>Alsergrund</td><td>1117</td><td>1090</td><td>Währinger Straße   </td><td>47   </td><td>458   </td><td> 614</td><td>Kaufvertrag</td><td>14.05.2013</td><td>⋯</td><td>FALSCH</td><td></td><td></td><td>FALSCH</td><td>W GV I 4,5m</td><td>20</td><td> 2800000</td><td></td><td>02</td><td>POLYGON ((2152.74 343936.9,...</td></tr>\n",
       "</tbody>\n",
       "</table>\n"
      ],
      "text/latex": [
       "A data.frame: 6 × 49\n",
       "\\begin{tabular}{r|lllllllllllllllllllll}\n",
       "  & KG.Code & Katastralgemeinde & EZ & PLZ & Straße & ON & Gst. & Gst.Fl. & ErwArt & Erwerbsdatum & ⋯ & Baurecht & Bis & auf.EZ & Stammeinlage & sonst\\_wid & sonst\\_wid\\_prz & ber..Kaufpreis & Bauzins & BEZ & geometry\\\\\n",
       "  & <int> & <fct> & <int> & <int> & <fct> & <fct> & <fct> & <int> & <fct> & <fct> & ⋯ & <fct> & <fct> & <fct> & <fct> & <fct> & <fct> & <int> & <fct> & <fct> & <POLYGON {[}m{]}>\\\\\n",
       "\\hline\n",
       "\t1 & 1002 & Alsergrund &   11 & 1090 & Spitalgasse         & 27    & 430    &  427 & Kaufvertrag & 09.06.1997 & ⋯ & FALSCH &  &  & FALSCH &             &    &  1108988 &  & 02 & POLYGON ((2152.74 343936.9,...\\\\\n",
       "\t2 & 1002 & Alsergrund &  400 & 1090 & Liechtensteinstraße & 77    & 675    &  213 & Kaufvertrag & 06.04.2018 & ⋯ & FALSCH &  &  & FALSCH & WGVI 4,5m g & 10 &       NA &  & 02 & POLYGON ((2152.74 343936.9,...\\\\\n",
       "\t3 & 1002 & Alsergrund & 1495 & 1090 & PORZELLANGASSE      & 64    & 1300/2 &  419 & Kaufvertrag & 05.12.1988 & ⋯ & FALSCH &  &  & FALSCH &             &    &  1017420 &  & 02 & POLYGON ((2152.74 343936.9,...\\\\\n",
       "\t4 & 1002 & Alsergrund & 2142 & 1090 & Pelikangasse        & 16-18 & 304    & 1638 & Kaufvertrag & 18.04.2018 & ⋯ & FALSCH &  &  & FALSCH & W III       & 70 & 18984009 &  & 02 & POLYGON ((2152.74 343936.9,...\\\\\n",
       "\t5 & 1002 & Alsergrund & 1453 & 1090 & Seegasse            & 29    & 1335   &  977 & Kaufvertrag & 03.08.2000 & ⋯ & FALSCH &  &  & FALSCH &             &    &  1869872 &  & 02 & POLYGON ((2152.74 343936.9,...\\\\\n",
       "\t6 & 1002 & Alsergrund & 1117 & 1090 & Währinger Straße    & 47    & 458    &  614 & Kaufvertrag & 14.05.2013 & ⋯ & FALSCH &  &  & FALSCH & W GV I 4,5m & 20 &  2800000 &  & 02 & POLYGON ((2152.74 343936.9,...\\\\\n",
       "\\end{tabular}\n"
      ],
      "text/markdown": [
       "\n",
       "A data.frame: 6 × 49\n",
       "\n",
       "| <!--/--> | KG.Code &lt;int&gt; | Katastralgemeinde &lt;fct&gt; | EZ &lt;int&gt; | PLZ &lt;int&gt; | Straße &lt;fct&gt; | ON &lt;fct&gt; | Gst. &lt;fct&gt; | Gst.Fl. &lt;int&gt; | ErwArt &lt;fct&gt; | Erwerbsdatum &lt;fct&gt; | ⋯ ⋯ | Baurecht &lt;fct&gt; | Bis &lt;fct&gt; | auf.EZ &lt;fct&gt; | Stammeinlage &lt;fct&gt; | sonst_wid &lt;fct&gt; | sonst_wid_prz &lt;fct&gt; | ber..Kaufpreis &lt;int&gt; | Bauzins &lt;fct&gt; | BEZ &lt;fct&gt; | geometry &lt;POLYGON [m]&gt; |\n",
       "|---|---|---|---|---|---|---|---|---|---|---|---|---|---|---|---|---|---|---|---|---|---|\n",
       "| 1 | 1002 | Alsergrund |   11 | 1090 | Spitalgasse         | 27    | 430    |  427 | Kaufvertrag | 09.06.1997 | ⋯ | FALSCH | <!----> | <!----> | FALSCH | <!----> | <!----> |  1108988 | <!----> | 02 | POLYGON ((2152.74 343936.9,... |\n",
       "| 2 | 1002 | Alsergrund |  400 | 1090 | Liechtensteinstraße | 77    | 675    |  213 | Kaufvertrag | 06.04.2018 | ⋯ | FALSCH | <!----> | <!----> | FALSCH | WGVI 4,5m g | 10 |       NA | <!----> | 02 | POLYGON ((2152.74 343936.9,... |\n",
       "| 3 | 1002 | Alsergrund | 1495 | 1090 | PORZELLANGASSE      | 64    | 1300/2 |  419 | Kaufvertrag | 05.12.1988 | ⋯ | FALSCH | <!----> | <!----> | FALSCH | <!----> | <!----> |  1017420 | <!----> | 02 | POLYGON ((2152.74 343936.9,... |\n",
       "| 4 | 1002 | Alsergrund | 2142 | 1090 | Pelikangasse        | 16-18 | 304    | 1638 | Kaufvertrag | 18.04.2018 | ⋯ | FALSCH | <!----> | <!----> | FALSCH | W III       | 70 | 18984009 | <!----> | 02 | POLYGON ((2152.74 343936.9,... |\n",
       "| 5 | 1002 | Alsergrund | 1453 | 1090 | Seegasse            | 29    | 1335   |  977 | Kaufvertrag | 03.08.2000 | ⋯ | FALSCH | <!----> | <!----> | FALSCH | <!----> | <!----> |  1869872 | <!----> | 02 | POLYGON ((2152.74 343936.9,... |\n",
       "| 6 | 1002 | Alsergrund | 1117 | 1090 | Währinger Straße    | 47    | 458    |  614 | Kaufvertrag | 14.05.2013 | ⋯ | FALSCH | <!----> | <!----> | FALSCH | W GV I 4,5m | 20 |  2800000 | <!----> | 02 | POLYGON ((2152.74 343936.9,... |\n",
       "\n"
      ],
      "text/plain": [
       "  KG.Code Katastralgemeinde EZ   PLZ  Straße              ON    Gst.   Gst.Fl.\n",
       "1 1002    Alsergrund          11 1090 Spitalgasse         27    430     427   \n",
       "2 1002    Alsergrund         400 1090 Liechtensteinstraße 77    675     213   \n",
       "3 1002    Alsergrund        1495 1090 PORZELLANGASSE      64    1300/2  419   \n",
       "4 1002    Alsergrund        2142 1090 Pelikangasse        16-18 304    1638   \n",
       "5 1002    Alsergrund        1453 1090 Seegasse            29    1335    977   \n",
       "6 1002    Alsergrund        1117 1090 Währinger Straße    47    458     614   \n",
       "  ErwArt      Erwerbsdatum ⋯ Baurecht Bis auf.EZ Stammeinlage sonst_wid  \n",
       "1 Kaufvertrag 09.06.1997   ⋯ FALSCH              FALSCH                  \n",
       "2 Kaufvertrag 06.04.2018   ⋯ FALSCH              FALSCH       WGVI 4,5m g\n",
       "3 Kaufvertrag 05.12.1988   ⋯ FALSCH              FALSCH                  \n",
       "4 Kaufvertrag 18.04.2018   ⋯ FALSCH              FALSCH       W III      \n",
       "5 Kaufvertrag 03.08.2000   ⋯ FALSCH              FALSCH                  \n",
       "6 Kaufvertrag 14.05.2013   ⋯ FALSCH              FALSCH       W GV I 4,5m\n",
       "  sonst_wid_prz ber..Kaufpreis Bauzins BEZ geometry                      \n",
       "1                1108988               02  POLYGON ((2152.74 343936.9,...\n",
       "2 10                  NA               02  POLYGON ((2152.74 343936.9,...\n",
       "3                1017420               02  POLYGON ((2152.74 343936.9,...\n",
       "4 70            18984009               02  POLYGON ((2152.74 343936.9,...\n",
       "5                1869872               02  POLYGON ((2152.74 343936.9,...\n",
       "6 20             2800000               02  POLYGON ((2152.74 343936.9,..."
      ]
     },
     "metadata": {},
     "output_type": "display_data"
    }
   ],
   "source": [
    "head(preise_mit_Bezirk)"
   ]
  },
  {
   "cell_type": "code",
   "execution_count": null,
   "id": "d714f1ac",
   "metadata": {},
   "outputs": [],
   "source": [
    "write_xlsx(preise_mit_Bezirk, \"./data/Data_mit_Bezirk.xlsx\")"
   ]
  },
  {
   "cell_type": "code",
   "execution_count": null,
   "id": "99b1f596",
   "metadata": {},
   "outputs": [],
   "source": [
    "colnames(kgs_wien)"
   ]
  },
  {
   "cell_type": "code",
   "execution_count": null,
   "id": "9a125f33",
   "metadata": {},
   "outputs": [],
   "source": [
    "head(kgs_wien$NAMEK_RZ)"
   ]
  },
  {
   "cell_type": "code",
   "execution_count": null,
   "id": "6fa173e6",
   "metadata": {},
   "outputs": [],
   "source": []
  }
 ],
 "metadata": {
  "kernelspec": {
   "display_name": "R",
   "language": "R",
   "name": "ir"
  },
  "varInspector": {
   "cols": {
    "lenName": 16,
    "lenType": 16,
    "lenVar": 40
   },
   "kernels_config": {
    "python": {
     "delete_cmd_postfix": "",
     "delete_cmd_prefix": "del ",
     "library": "var_list.py",
     "varRefreshCmd": "print(var_dic_list())"
    },
    "r": {
     "delete_cmd_postfix": ") ",
     "delete_cmd_prefix": "rm(",
     "library": "var_list.r",
     "varRefreshCmd": "cat(var_dic_list()) "
    }
   },
   "types_to_exclude": [
    "module",
    "function",
    "builtin_function_or_method",
    "instance",
    "_Feature"
   ],
   "window_display": false
  }
 },
 "nbformat": 4,
 "nbformat_minor": 5
}
